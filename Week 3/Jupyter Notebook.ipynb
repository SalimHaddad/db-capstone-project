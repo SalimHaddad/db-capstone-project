{
 "cells": [
  {
   "cell_type": "code",
   "execution_count": 1,
   "id": "beaa0a64-fdc8-4bc0-a3ee-718475f96fc2",
   "metadata": {},
   "outputs": [
    {
     "name": "stdout",
     "output_type": "stream",
     "text": [
      "Requirement already satisfied: mysql-connector-python in c:\\users\\salimhaddad\\appdata\\local\\programs\\python\\python311\\lib\\site-packages (8.1.0)\n",
      "Requirement already satisfied: protobuf<=4.21.12,>=4.21.1 in c:\\users\\salimhaddad\\appdata\\local\\programs\\python\\python311\\lib\\site-packages (from mysql-connector-python) (4.21.12)\n"
     ]
    }
   ],
   "source": [
    "!pip install mysql-connector-python\n",
    "import mysql.connector as connector\n",
    "connection = connector.connect(user = \"salimhaddad\", password = \"dfbknvbfcbn1\")"
   ]
  },
  {
   "cell_type": "code",
   "execution_count": 11,
   "id": "f01c95c8-ac82-4d35-8fed-63bb5d9045dd",
   "metadata": {},
   "outputs": [],
   "source": [
    "connection = connector.connect(user = \"salimhaddad\", password = \"dfbknvbfcbn1\", db = \"littlelemon\") "
   ]
  },
  {
   "cell_type": "code",
   "execution_count": 12,
   "id": "ed62b395-7214-47d7-a504-465d688b26dd",
   "metadata": {},
   "outputs": [
    {
     "name": "stdout",
     "output_type": "stream",
     "text": [
      "[('bookings',), ('bookingsstaff',), ('customerdetails',), ('customershighcostorders',), ('menu',), ('orderdeliverystatus',), ('orders',), ('ordersstaff',), ('ordersview',), ('staffinformation',), ('twoordersmenuitems',)]\n"
     ]
    }
   ],
   "source": [
    "show_tables_query = \"SHOW tables\" \n",
    "cursor = connection.cursor()\n",
    "cursor.execute(show_tables_query)\n",
    "result = cursor.fetchall()\n",
    "print(result)"
   ]
  },
  {
   "cell_type": "code",
   "execution_count": 13,
   "id": "10bacdca-a565-43de-adb8-803cd51073e1",
   "metadata": {},
   "outputs": [
    {
     "name": "stdout",
     "output_type": "stream",
     "text": [
      "[('John Doe', '123-456-7890', 'john.doe@example.com', Decimal('120')), ('Emily Williams', '789-012-3456', 'emily.williams@example.com', Decimal('90')), ('David Brown', '321-654-9870', 'david.brown@example.com', Decimal('70')), ('Sarah Jones', '654-987-0123', 'sarah.jones@example.com', Decimal('500'))]\n"
     ]
    }
   ],
   "source": [
    "sql = \"SELECT c.Name, c.Phone, c.Email, o.TotalCost FROM customerdetails c INNER JOIN orders o ON c.CustomerID = o.CustomerOID WHERE o.TotalCost > 60\"\n",
    "cursor.execute(sql)\n",
    "result = cursor.fetchall()\n",
    "print(result)\n"
   ]
  },
  {
   "cell_type": "code",
   "execution_count": null,
   "id": "67f850dd-538f-4dae-b887-0caffbbf551c",
   "metadata": {},
   "outputs": [],
   "source": []
  }
 ],
 "metadata": {
  "kernelspec": {
   "display_name": "Python 3 (ipykernel)",
   "language": "python",
   "name": "python3"
  },
  "language_info": {
   "codemirror_mode": {
    "name": "ipython",
    "version": 3
   },
   "file_extension": ".py",
   "mimetype": "text/x-python",
   "name": "python",
   "nbconvert_exporter": "python",
   "pygments_lexer": "ipython3",
   "version": "3.11.3"
  }
 },
 "nbformat": 4,
 "nbformat_minor": 5
}
